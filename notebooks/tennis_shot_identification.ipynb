{
  "cells": [
    {
      "cell_type": "markdown",
      "metadata": {
        "id": "lCmdsIpp2wBm"
      },
      "source": [
        "#**Tennis Shots Identification and Counting using YOLOv7 Pose Estimation**"
      ]
    },
    {
      "cell_type": "markdown",
      "metadata": {
        "id": "dW3eh51ciMGH"
      },
      "source": [
        "#**Clone repo and install Flask**\n",
        "\n"
      ]
    },
    {
      "cell_type": "code",
      "source": [
        "!pip install fastapi nest-asyncio pyngrok uvicorn python-multipart"
      ],
      "metadata": {
        "id": "RxkfqGe-K-gn"
      },
      "execution_count": null,
      "outputs": []
    },
    {
      "cell_type": "code",
      "execution_count": null,
      "metadata": {
        "id": "f0pKtVXx9ZsY"
      },
      "outputs": [],
      "source": [
        "!git clone https://github.com/galleon/yellow_bumblebee"
      ]
    },
    {
      "cell_type": "markdown",
      "metadata": {
        "id": "dI7TwBBUDEnu"
      },
      "source": [
        "#**Downloading the YOLO v7 and trained LSTM model file**"
      ]
    },
    {
      "cell_type": "code",
      "execution_count": null,
      "metadata": {
        "id": "G7hkgDYr22tU"
      },
      "outputs": [],
      "source": [
        "%cd /content/yellow_bumblebee"
      ]
    },
    {
      "cell_type": "code",
      "execution_count": null,
      "metadata": {
        "id": "GDxi6hXgDEvm"
      },
      "outputs": [],
      "source": [
        "!wget https://github.com/WongKinYiu/yolov7/releases/download/v0.1/yolov7-w6-pose.pt -P ."
      ]
    },
    {
      "cell_type": "code",
      "execution_count": null,
      "metadata": {
        "id": "hm64MhPw9HDG"
      },
      "outputs": [],
      "source": [
        "!wget https://github.com/XaLeroy/tennis_vision/raw/main/VideoInput/video_input2.mp4 -P ."
      ]
    },
    {
      "cell_type": "code",
      "execution_count": null,
      "metadata": {
        "id": "wIBfwRkLAsAl"
      },
      "outputs": [],
      "source": [
        "!wget https://github.com/sahibjotsaggu/San-Francisco-Pro-Fonts/raw/master/SF-Pro.ttf -O sfpro.ttf"
      ]
    },
    {
      "cell_type": "markdown",
      "source": [
        "### Upload video file"
      ],
      "metadata": {
        "id": "xFPZI0AWJ4Mc"
      }
    },
    {
      "cell_type": "code",
      "source": [
        "from google.colab import files\n",
        "\n",
        "vf = files.upload()"
      ],
      "metadata": {
        "id": "mUzQgN8oKOUw"
      },
      "execution_count": null,
      "outputs": []
    },
    {
      "cell_type": "code",
      "source": [
        "vf_name = list(vf.keys())[0]"
      ],
      "metadata": {
        "id": "VBrVXSJFOC3Q"
      },
      "execution_count": null,
      "outputs": []
    },
    {
      "cell_type": "markdown",
      "source": [
        "### Upload mmodelfinal.h5"
      ],
      "metadata": {
        "id": "jYw7XmrqL87Q"
      }
    },
    {
      "cell_type": "code",
      "source": [
        "_ = files.upload()"
      ],
      "metadata": {
        "id": "p_dGnUuEKc4q"
      },
      "execution_count": null,
      "outputs": []
    },
    {
      "cell_type": "markdown",
      "source": [
        "## Run code"
      ],
      "metadata": {
        "id": "9nQaW7j7KWVk"
      }
    },
    {
      "cell_type": "code",
      "source": [
        "from tennis_shot_identification_and_counts import run\n",
        "run(source=vf_name, device=\"0\")"
      ],
      "metadata": {
        "id": "gCXRop82KVm8"
      },
      "execution_count": null,
      "outputs": []
    },
    {
      "cell_type": "markdown",
      "source": [
        "## Show result"
      ],
      "metadata": {
        "id": "pZhNpTM7OvEn"
      }
    },
    {
      "cell_type": "code",
      "execution_count": null,
      "metadata": {
        "id": "MAW4vZsv0ezu"
      },
      "outputs": [],
      "source": [
        "from IPython.display import HTML\n",
        "from base64 import b64encode\n",
        "import os\n",
        "\n",
        "# Input video path\n",
        "save_path = f'/content/yellow_bumblebee/{vf_name}'\n",
        "\n",
        "# Compressed video path\n",
        "compressed_path = \"/content/yellow_bumblebee/result_compressed.mp4\"\n",
        "\n",
        "os.system(f\"ffmpeg -i {save_path} -vcodec libx264 {compressed_path}\")\n",
        "\n",
        "# Show video\n",
        "mp4 = open(compressed_path,'rb').read()\n",
        "data_url = \"data:video/mp4;base64,\" + b64encode(mp4).decode()\n",
        "HTML(\"\"\"\n",
        "<video width=400 controls>\n",
        "      <source src=\"%s\" type=\"video/mp4\">\n",
        "</video>\n",
        "\"\"\" % data_url)"
      ]
    },
    {
      "cell_type": "markdown",
      "source": [
        "# Create FastAPI endpoint using ngrok"
      ],
      "metadata": {
        "id": "FyIsaGsUHxQk"
      }
    },
    {
      "cell_type": "code",
      "source": [
        "from fastapi import FastAPI, File, UploadFile\n",
        "from fastapi.responses import FileResponse, StreamingResponse\n",
        "import cv2\n",
        "from PIL import Image\n",
        "import io\n",
        "import tempfile\n",
        "import os\n",
        "from pathlib import Path\n",
        "from fastapi.middleware.cors import CORSMiddleware\n",
        "\n",
        "from tennis_shot_identification_and_counts import run\n",
        "\n",
        "app = FastAPI()\n",
        "\n",
        "app.add_middleware(\n",
        "    CORSMiddleware,\n",
        "    allow_origins=['*'],\n",
        "    allow_credentials=True,\n",
        "    allow_methods=['*'],\n",
        "    allow_headers=['*'],\n",
        ")\n",
        "\n",
        "@app.post(\"/process_video\")\n",
        "async def process_video(file: UploadFile = File(...)):\n",
        "\n",
        "    _, file_extension = os.path.splitext(file.filename)\n",
        "\n",
        "    with tempfile.NamedTemporaryFile(delete=True, suffix=file_extension) as temp_file:\n",
        "        temp_file.write(await file.read())\n",
        "        temp_file.seek(0)\n",
        "\n",
        "        # for x in os.listdir():\n",
        "        #   print(x)\n",
        "\n",
        "        print(temp_file.name)\n",
        "\n",
        "        run(source=temp_file.name, device=\"0\")\n",
        "\n",
        "        # Test if the video file exists and can be read\n",
        "        try:\n",
        "            output_video_path = Path(temp_file.name.split(\".\")[0] + \"_wed.mp4\")\n",
        "            if output_video_path.exists() and output_video_path.is_file():\n",
        "                return FileResponse(str(output_video_path), media_type=\"video/mp4\", filename=output_video_path.name)\n",
        "        finally:\n",
        "            if output_video_path.exists():\n",
        "                output_video_path.unlink()\n",
        "\n",
        "    # If the process fails, return an error response\n",
        "    return {\"error\": \"Failed to process the video\"}\n"
      ],
      "metadata": {
        "id": "yB1LCcU_Oml4"
      },
      "execution_count": null,
      "outputs": []
    },
    {
      "cell_type": "code",
      "source": [
        "from google.colab import userdata\n",
        "ngrok_authtoken = userdata.get('NGROK_AUTHTOKEN')"
      ],
      "metadata": {
        "id": "FmCutdVAIUOp"
      },
      "execution_count": null,
      "outputs": []
    },
    {
      "cell_type": "code",
      "source": [
        "import nest_asyncio\n",
        "from pyngrok import ngrok\n",
        "import uvicorn\n",
        "\n",
        "ngrok.set_auth_token(ngrok_authtoken)\n",
        "\n",
        "ngrok_tunnel = ngrok.connect(8000)\n",
        "print('Public URL:', ngrok_tunnel.public_url)\n",
        "nest_asyncio.apply()\n",
        "uvicorn.run(app, port=8000)"
      ],
      "metadata": {
        "id": "jFGeW4kpOL3z"
      },
      "execution_count": null,
      "outputs": []
    }
  ],
  "metadata": {
    "accelerator": "GPU",
    "colab": {
      "gpuType": "T4",
      "provenance": []
    },
    "kernelspec": {
      "display_name": "Python 3",
      "name": "python3"
    },
    "language_info": {
      "name": "python"
    }
  },
  "nbformat": 4,
  "nbformat_minor": 0
}